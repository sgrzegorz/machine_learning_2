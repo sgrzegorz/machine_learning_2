{
 "cells": [
  {
   "cell_type": "code",
   "execution_count": 34,
   "id": "17387b3c-8c65-478f-91bb-1a10276683dc",
   "metadata": {},
   "outputs": [],
   "source": [
    "from numpy.linalg import inv\n",
    "import numpy as np\n",
    "from scipy import stats\n",
    "from sklearn.datasets import load_boston\n",
    "from sklearn.model_selection import train_test_split\n",
    "import matplotlib.pyplot as plt\n"
   ]
  },
  {
   "cell_type": "code",
   "execution_count": 2,
   "id": "e8e3d3cb-c375-4247-bfe5-8315a298f2d0",
   "metadata": {},
   "outputs": [
    {
     "name": "stderr",
     "output_type": "stream",
     "text": [
      "/home/x/anaconda3/envs/ml/lib/python3.9/site-packages/sklearn/utils/deprecation.py:87: FutureWarning: Function load_boston is deprecated; `load_boston` is deprecated in 1.0 and will be removed in 1.2.\n",
      "\n",
      "    The Boston housing prices dataset has an ethical problem. You can refer to\n",
      "    the documentation of this function for further details.\n",
      "\n",
      "    The scikit-learn maintainers therefore strongly discourage the use of this\n",
      "    dataset unless the purpose of the code is to study and educate about\n",
      "    ethical issues in data science and machine learning.\n",
      "\n",
      "    In this special case, you can fetch the dataset from the original\n",
      "    source::\n",
      "\n",
      "        import pandas as pd\n",
      "        import numpy as np\n",
      "\n",
      "\n",
      "        data_url = \"http://lib.stat.cmu.edu/datasets/boston\"\n",
      "        raw_df = pd.read_csv(data_url, sep=\"\\s+\", skiprows=22, header=None)\n",
      "        data = np.hstack([raw_df.values[::2, :], raw_df.values[1::2, :2]])\n",
      "        target = raw_df.values[1::2, 2]\n",
      "\n",
      "    Alternative datasets include the California housing dataset (i.e.\n",
      "    :func:`~sklearn.datasets.fetch_california_housing`) and the Ames housing\n",
      "    dataset. You can load the datasets as follows::\n",
      "\n",
      "        from sklearn.datasets import fetch_california_housing\n",
      "        housing = fetch_california_housing()\n",
      "\n",
      "    for the California housing dataset and::\n",
      "\n",
      "        from sklearn.datasets import fetch_openml\n",
      "        housing = fetch_openml(name=\"house_prices\", as_frame=True)\n",
      "\n",
      "    for the Ames housing dataset.\n",
      "    \n",
      "  warnings.warn(msg, category=FutureWarning)\n"
     ]
    },
    {
     "ename": "ValueError",
     "evalue": "operands could not be broadcast together with shapes (13,13) (303,303) ",
     "output_type": "error",
     "traceback": [
      "\u001b[0;31m---------------------------------------------------------------------------\u001b[0m",
      "\u001b[0;31mValueError\u001b[0m                                Traceback (most recent call last)",
      "\u001b[0;32m/tmp/ipykernel_522143/3221086895.py\u001b[0m in \u001b[0;36m<module>\u001b[0;34m\u001b[0m\n\u001b[1;32m     36\u001b[0m \u001b[0mX_train\u001b[0m\u001b[0;34m,\u001b[0m \u001b[0mX_test\u001b[0m\u001b[0;34m,\u001b[0m \u001b[0my_train\u001b[0m\u001b[0;34m,\u001b[0m \u001b[0my_test\u001b[0m \u001b[0;34m=\u001b[0m \u001b[0mtrain_test_split\u001b[0m\u001b[0;34m(\u001b[0m\u001b[0mX\u001b[0m\u001b[0;34m,\u001b[0m \u001b[0my\u001b[0m\u001b[0;34m,\u001b[0m \u001b[0mtest_size\u001b[0m\u001b[0;34m=\u001b[0m\u001b[0;36m0.4\u001b[0m\u001b[0;34m,\u001b[0m \u001b[0mrandom_state\u001b[0m\u001b[0;34m=\u001b[0m\u001b[0;36m0\u001b[0m\u001b[0;34m)\u001b[0m\u001b[0;34m\u001b[0m\u001b[0;34m\u001b[0m\u001b[0m\n\u001b[1;32m     37\u001b[0m \u001b[0mblr\u001b[0m \u001b[0;34m=\u001b[0m \u001b[0mBayesianLinearRegression\u001b[0m\u001b[0;34m(\u001b[0m\u001b[0mn_features\u001b[0m \u001b[0;34m,\u001b[0m\u001b[0;36m0.3\u001b[0m\u001b[0;34m,\u001b[0m \u001b[0;36m1.0\u001b[0m\u001b[0;34m)\u001b[0m\u001b[0;34m\u001b[0m\u001b[0;34m\u001b[0m\u001b[0m\n\u001b[0;32m---> 38\u001b[0;31m \u001b[0mblr\u001b[0m\u001b[0;34m.\u001b[0m\u001b[0mlearn\u001b[0m\u001b[0;34m(\u001b[0m\u001b[0mX_train\u001b[0m\u001b[0;34m,\u001b[0m\u001b[0my_train\u001b[0m\u001b[0;34m)\u001b[0m\u001b[0;34m\u001b[0m\u001b[0;34m\u001b[0m\u001b[0m\n\u001b[0m\u001b[1;32m     39\u001b[0m \u001b[0mblr\u001b[0m\u001b[0;34m.\u001b[0m\u001b[0mpredict\u001b[0m\u001b[0;34m(\u001b[0m\u001b[0mX_test\u001b[0m\u001b[0;34m[\u001b[0m\u001b[0;36m0\u001b[0m\u001b[0;34m]\u001b[0m\u001b[0;34m,\u001b[0m\u001b[0my_test\u001b[0m\u001b[0;34m[\u001b[0m\u001b[0;36m0\u001b[0m\u001b[0;34m]\u001b[0m\u001b[0;34m)\u001b[0m\u001b[0;34m\u001b[0m\u001b[0;34m\u001b[0m\u001b[0m\n",
      "\u001b[0;32m/tmp/ipykernel_522143/3221086895.py\u001b[0m in \u001b[0;36mlearn\u001b[0;34m(self, x, y)\u001b[0m\n\u001b[1;32m     10\u001b[0m         \u001b[0;31m# Update the inverse covariance matrix (\u001b[0m\u001b[0;34m\u001b[0m\u001b[0;34m\u001b[0m\u001b[0m\n\u001b[1;32m     11\u001b[0m         \u001b[0;31m# Equation 77# Update the mean vector\u001b[0m\u001b[0;34m\u001b[0m\u001b[0;34m\u001b[0m\u001b[0m\n\u001b[0;32m---> 12\u001b[0;31m         \u001b[0mcov\u001b[0m \u001b[0;34m=\u001b[0m \u001b[0minv\u001b[0m\u001b[0;34m(\u001b[0m\u001b[0minv\u001b[0m\u001b[0;34m(\u001b[0m\u001b[0mself\u001b[0m\u001b[0;34m.\u001b[0m\u001b[0mcov\u001b[0m\u001b[0;34m)\u001b[0m \u001b[0;34m+\u001b[0m \u001b[0mself\u001b[0m\u001b[0;34m.\u001b[0m\u001b[0mbeta\u001b[0m \u001b[0;34m*\u001b[0m \u001b[0mx\u001b[0m \u001b[0;34m@\u001b[0m \u001b[0mnp\u001b[0m\u001b[0;34m.\u001b[0m\u001b[0mtranspose\u001b[0m\u001b[0;34m(\u001b[0m\u001b[0mx\u001b[0m\u001b[0;34m)\u001b[0m\u001b[0;34m)\u001b[0m\u001b[0;34m\u001b[0m\u001b[0;34m\u001b[0m\u001b[0m\n\u001b[0m\u001b[1;32m     13\u001b[0m         \u001b[0mself\u001b[0m\u001b[0;34m.\u001b[0m\u001b[0mcov\u001b[0m \u001b[0;34m=\u001b[0m \u001b[0mcov\u001b[0m\u001b[0;34m\u001b[0m\u001b[0;34m\u001b[0m\u001b[0m\n\u001b[1;32m     14\u001b[0m         \u001b[0mself\u001b[0m\u001b[0;34m.\u001b[0m\u001b[0mmean\u001b[0m \u001b[0;34m=\u001b[0m \u001b[0mself\u001b[0m\u001b[0;34m.\u001b[0m\u001b[0mcov\u001b[0m \u001b[0;34m@\u001b[0m \u001b[0;34m(\u001b[0m\u001b[0minv\u001b[0m\u001b[0;34m(\u001b[0m\u001b[0mcov\u001b[0m\u001b[0;34m)\u001b[0m \u001b[0;34m@\u001b[0m \u001b[0mself\u001b[0m\u001b[0;34m.\u001b[0m\u001b[0mmean\u001b[0m \u001b[0;34m+\u001b[0m  \u001b[0mself\u001b[0m\u001b[0;34m.\u001b[0m\u001b[0mbeta\u001b[0m \u001b[0;34m*\u001b[0m \u001b[0my\u001b[0m  \u001b[0;34m@\u001b[0m \u001b[0mx\u001b[0m\u001b[0;34m)\u001b[0m\u001b[0;34m\u001b[0m\u001b[0;34m\u001b[0m\u001b[0m\n",
      "\u001b[0;31mValueError\u001b[0m: operands could not be broadcast together with shapes (13,13) (303,303) "
     ]
    }
   ],
   "source": [
    "\n",
    "\n",
    "class BayesianLinearRegression:\n",
    "    def __init__(self, n_features, alpha, beta):\n",
    "        self.n_features = n_features\n",
    "        self.alpha = alpha\n",
    "        self.beta = beta\n",
    "        self.mean = np.zeros(n_features)\n",
    "        self.cov = np.identity(n_features) * alpha\n",
    "    \n",
    "    def learn(self, x, y):\n",
    "        # Update the inverse covariance matrix (\n",
    "        # Equation 77# Update the mean vector\n",
    "        cov = inv(inv(self.cov) + self.beta * x @ np.transpose(x))\n",
    "        self.cov = cov\n",
    "        self.mean = self.cov @ (inv(cov) @ self.mean +  self.beta * y  @ x)\n",
    "        \n",
    "        # Equation 78\n",
    "        return self\n",
    "        \n",
    "    def predict(self, x):\n",
    "        # Obtain the predictive mean\n",
    "        # Equation 62, Equation 80\n",
    "        # Obtain the predictive variance\n",
    "        # Equation 81\n",
    "        y_pred_mean = self.weights_dist().T @ x\n",
    "        y_pred_var = 1/ self.beta + x.T @ self.cov @ x\n",
    "                             \n",
    "        return stats.norm(loc=y_pred_mean, scale=y_pred_var ** .5)\n",
    "    \n",
    "    @property\n",
    "    def weights_dist(self):\n",
    "        return stats.multivariate_normal(mean=self.mean, cov=self.cov)\n",
    "    \n",
    "X, y = load_boston(return_X_y=True)\n",
    "n_features  = len(load_boston()['feature_names'])\n",
    "\n",
    "X_train, X_test, y_train, y_test = train_test_split(X, y, test_size=0.4, random_state=0)\n",
    "blr = BayesianLinearRegression(n_features ,0.3, 1.0)\n",
    "blr.learn(X_train,y_train)\n",
    "blr.predict(X_test[0],y_test[0])"
   ]
  },
  {
   "cell_type": "code",
   "execution_count": null,
   "id": "98228484-3912-4987-a5bf-ccaf9e53a5df",
   "metadata": {},
   "outputs": [],
   "source": [
    "# alternatywna próba\n",
    "\n",
    "# class BayesianLinearRegression:\n",
    "#     def __init__(self, n_features, alpha, beta):\n",
    "#         self.n_features = n_features\n",
    "#         self.alpha = alpha\n",
    "#         self.beta = beta\n",
    "#         self.mean = np.zeros(n_features)\n",
    "#         self.cov = np.identity(n_features) * alpha\n",
    "\n",
    "#     def learn(self, x, y):\n",
    "#         # Update the inverse covariance matrix (\n",
    "#         # Equation 77# Update the mean vector\n",
    "#         cov = inv(inv(self.cov) + self.beta * x @ np.transpose(x))\n",
    "#         self.cov = np.copy(cov)\n",
    "#         t = np.transpose(self.weights_dist()) @ x\n",
    "#         self.mean = self.cov @ (inv(cov) @ self.mean + self.beta * t @ x)\n",
    "\n",
    "#         # Equation 78\n",
    "#         return self\n",
    "\n",
    "#     def fit(self,X_train,y_train):\n",
    "#         for i in range(len(y_train)):\n",
    "#             self.learn(X_train[i],y_train[i])\n",
    "\n",
    "#     def predict(self, x):\n",
    "#         # Obtain the predictive mean\n",
    "#         # Equation 62, Equation 80\n",
    "#         # Obtain the predictive variance\n",
    "#         # Equation 81\n",
    "#         y_pred_mean = self.weights_dist().T @ x\n",
    "#         y_pred_var = 1 / self.beta + x.T @ self.cov @ x\n",
    "\n",
    "#         return stats.norm(loc=y_pred_mean, scale=y_pred_var ** .5)\n",
    "\n",
    "#     @property\n",
    "#     def weights_dist(self):\n",
    "#         return stats.multivariate_normal(mean=self.mean, cov=self.cov)\n",
    "\n",
    "\n",
    "# X, y = load_boston(return_X_y=True)\n",
    "# n_features = len(load_boston()['feature_names'])\n",
    "\n",
    "# X_train, X_test, y_train, y_test = train_test_split(X, y, test_size=0.4, random_state=0)\n",
    "# blr = BayesianLinearRegression(n_features, 0.3, 1.0)\n",
    "# blr.fit(X_train, y_train)\n",
    "\n"
   ]
  },
  {
   "cell_type": "code",
   "execution_count": 13,
   "id": "a9d79340",
   "metadata": {},
   "outputs": [],
   "source": [
    "mu, sigma = 0, 0.2 # mean and standard deviation\n",
    "epsilon = np.random.normal(mu, sigma, 10) # Draw random samples from a normal (Gaussian) distribution.\n",
    "\n",
    "x = np.array([random.uniform(-1, 1) for _ in range(10)])\n",
    "t= - 0.2 + 0.6* x + epsilon"
   ]
  },
  {
   "cell_type": "code",
   "execution_count": 15,
   "id": "59924b07",
   "metadata": {},
   "outputs": [
    {
     "name": "stdout",
     "output_type": "stream",
     "text": [
      "[ 0.2835753   0.08849635  0.28290994  0.91221666 -0.87926777  0.47375675\n",
      " -0.34654343  0.8490084  -0.46928974 -0.01924268]\n",
      "[ 0.17633466 -0.11769712  0.06215157  0.16541897 -0.77987052  0.01963599\n",
      " -0.42795709  0.21473622 -0.50725902 -0.19147423]\n"
     ]
    }
   ],
   "source": [
    "print(x)\n",
    "print(t)"
   ]
  },
  {
   "cell_type": "code",
   "execution_count": 16,
   "id": "4e871d47",
   "metadata": {},
   "outputs": [],
   "source": [
    "from sklearn.linear_model import LinearRegression"
   ]
  },
  {
   "cell_type": "code",
   "execution_count": 36,
   "id": "a13856e6",
   "metadata": {},
   "outputs": [
    {
     "name": "stderr",
     "output_type": "stream",
     "text": [
      "/home/x/anaconda3/envs/ml/lib/python3.9/site-packages/sklearn/utils/deprecation.py:87: FutureWarning: Function load_boston is deprecated; `load_boston` is deprecated in 1.0 and will be removed in 1.2.\n",
      "\n",
      "    The Boston housing prices dataset has an ethical problem. You can refer to\n",
      "    the documentation of this function for further details.\n",
      "\n",
      "    The scikit-learn maintainers therefore strongly discourage the use of this\n",
      "    dataset unless the purpose of the code is to study and educate about\n",
      "    ethical issues in data science and machine learning.\n",
      "\n",
      "    In this special case, you can fetch the dataset from the original\n",
      "    source::\n",
      "\n",
      "        import pandas as pd\n",
      "        import numpy as np\n",
      "\n",
      "\n",
      "        data_url = \"http://lib.stat.cmu.edu/datasets/boston\"\n",
      "        raw_df = pd.read_csv(data_url, sep=\"\\s+\", skiprows=22, header=None)\n",
      "        data = np.hstack([raw_df.values[::2, :], raw_df.values[1::2, :2]])\n",
      "        target = raw_df.values[1::2, 2]\n",
      "\n",
      "    Alternative datasets include the California housing dataset (i.e.\n",
      "    :func:`~sklearn.datasets.fetch_california_housing`) and the Ames housing\n",
      "    dataset. You can load the datasets as follows::\n",
      "\n",
      "        from sklearn.datasets import fetch_california_housing\n",
      "        housing = fetch_california_housing()\n",
      "\n",
      "    for the California housing dataset and::\n",
      "\n",
      "        from sklearn.datasets import fetch_openml\n",
      "        housing = fetch_openml(name=\"house_prices\", as_frame=True)\n",
      "\n",
      "    for the Ames housing dataset.\n",
      "    \n",
      "  warnings.warn(msg, category=FutureWarning)\n"
     ]
    },
    {
     "data": {
      "text/plain": [
       "array([24.58155243, 24.51629253, 29.71379915, 12.51132696, 21.34965428,\n",
       "       19.05443022, 20.94614567, 20.95753329, 19.54644456, 20.53025981,\n",
       "        6.96153725, 17.1707288 , 16.85608802,  5.74921859, 40.74378524,\n",
       "       32.62964196, 22.88997064, 37.11387241, 30.94054261, 23.12796161,\n",
       "       24.54411122, 25.50446659, 20.37697803, 30.82455449, 22.42949559,\n",
       "       12.45993818, 17.10212725, 18.52819406, 34.91024736, 20.63587192,\n",
       "       18.38567423, 17.65503994, 19.39633993, 23.8814007 , 29.06559846,\n",
       "       19.49721361, 10.81151906, 25.66712254, 18.47597465, 15.40207099,\n",
       "       26.55714333, 20.56301083, 21.8661955 , 16.10102382, 22.05244625,\n",
       "       24.87100697, 19.97650209, 22.98518884,  9.46781454, 23.96350651,\n",
       "       21.66355147, 16.95911711, 24.48952338, 28.692406  , 13.80788563,\n",
       "       21.35149553, 20.72525415, 14.54282452, 16.61385208, 22.02338757,\n",
       "       17.15670419, 21.27690041, 33.12409276, 31.40070549, 18.22591067,\n",
       "       33.35335507, 18.26583607, 18.69440702, 19.46223051, 23.01614743,\n",
       "       23.08383927, 24.24060449, 31.46365924, 28.75560967, 26.32535083,\n",
       "        4.94498016, 36.16174377, 23.6119604 , 27.09367373, 19.04866966,\n",
       "       28.60456874, 19.16670874, 19.8980694 , 37.3779521 , 38.54326523,\n",
       "       23.44222536, 24.71260439, 17.36345744, 26.24309463, 16.46001101,\n",
       "       15.49549173, 12.99892537, 24.90156151, 31.31906531, 22.32389602,\n",
       "       19.77147408,  0.39563905, 25.35932868, 15.92697707, 17.42665161,\n",
       "       25.33097699, 22.03853346, 32.48171655, 22.05967751, 27.07700961,\n",
       "       23.35404531,  7.2956865 , 15.69000905, 22.30144799, 29.36865198,\n",
       "       34.1291138 , 13.23745802, 19.40592666, 20.75448625, 11.33021991,\n",
       "       23.29624296,  4.74027428, 20.02009615,  9.31551538, 45.20568188,\n",
       "       30.89908863, 12.25262113, 17.16550684, 21.22328782, 23.73552003,\n",
       "       21.03387818, 34.93370572, 12.98540543, 20.76915899, 35.40308195,\n",
       "       19.24125193, 13.28884198, 14.36643852, 23.90294596, 14.52270294,\n",
       "       31.07774479, 25.26970849, 14.95700671, 23.66302972,  9.55785281,\n",
       "       14.70899341, 20.65791202, 32.60450194, 27.86887317, 25.99433831,\n",
       "       14.93280205, 31.26889799, 27.12710604, 14.39292898,  7.22447485,\n",
       "       28.56228159, 24.83574781,  3.9319552 , 28.53645996, 17.02474435,\n",
       "       30.18463196, 20.98060755, 14.97401238, 17.58046178, 11.97364144,\n",
       "        9.01221584, 18.78596   , 34.54755408, 32.69375742, 22.35908781,\n",
       "       18.94042058, 22.71561523, 26.7503581 , 21.88243156, 17.241734  ,\n",
       "       32.55638286, 11.11432479, 19.15932632, 33.87025984, 19.07203575,\n",
       "       15.83715892, 18.5275603 , 13.93356225, 24.6112186 , 24.10822119,\n",
       "       16.62901342, 14.88029584, 19.73198007, 25.86917969, 16.75148456,\n",
       "       24.46774899, 21.67865126, 27.92069012, 35.11212005, 17.07584017,\n",
       "       11.94679816, 34.42681871, 30.51034425, 20.6905864 , 39.68629868,\n",
       "       29.91706802, 29.21514166, 17.6301969 , 27.2195486 , 40.06507642,\n",
       "       29.48926372, 16.58871089, 37.21015438])"
      ]
     },
     "execution_count": 36,
     "metadata": {},
     "output_type": "execute_result"
    }
   ],
   "source": [
    "X, y = load_boston(return_X_y=True)\n",
    "n_features  = len(load_boston()['feature_names'])\n",
    "\n",
    "X_train, X_test, y_train, y_test = train_test_split(X, y, test_size=0.4, random_state=0)\n",
    "\n",
    "\n",
    "reg = LinearRegression().fit(X_train, y_train)\n",
    "\n",
    "reg.predict(X_test)\n"
   ]
  },
  {
   "cell_type": "code",
   "execution_count": 31,
   "id": "ab3776db",
   "metadata": {},
   "outputs": [
    {
     "name": "stdout",
     "output_type": "stream",
     "text": [
      "[[0. 0. 0. 0. 0. 0. 0. 0. 0. 0. 0. 0. 0.]]\n",
      "[34.6]\n"
     ]
    }
   ],
   "source": [
    "reg = LinearRegression()\n",
    "for i in range(7):\n",
    "    reg.fit(X_train[i].reshape(1, -1), y_train[i].reshape(1,-1))\n",
    "    params = reg.get_params(deep=True)\n",
    "    params??\n",
    "    print(reg.coef_) # weights\n",
    "\n",
    "    print(reg.intercept_) #bias\n",
    "    \n",
    "    break\n",
    "    \n",
    "    "
   ]
  },
  {
   "cell_type": "code",
   "execution_count": 35,
   "id": "a0a6bcf6",
   "metadata": {},
   "outputs": [
    {
     "data": {
      "image/png": "[encoded data removed]",
      "text/plain": [
       "<Figure size 432x288 with 1 Axes>"
      ]
     },
     "metadata": {
      "needs_background": "light"
     },
     "output_type": "display_data"
    }
   ],
   "source": [
    "\n",
    "x = np.arange(1, 10)\n",
    "y = x.reshape(-1, 1)\n",
    "h = x * y\n",
    "\n",
    "cs = plt.contourf(h, extend='both')\n",
    "cs.cmap.set_over('red')\n",
    "cs.cmap.set_under('blue')\n",
    "cs.changed()  # tutaj niestety się nie udało połączyć tego z linear regression"
   ]
  }
 ],
 "metadata": {
  "kernelspec": {
   "display_name": "Python [conda env:ml]",
   "language": "python",
   "name": "conda-env-ml-py"
  },
  "language_info": {
   "codemirror_mode": {
    "name": "ipython",
    "version": 3
   },
   "file_extension": ".py",
   "mimetype": "text/x-python",
   "name": "python",
   "nbconvert_exporter": "python",
   "pygments_lexer": "ipython3",
   "version": "3.9.7"
  }
 },
 "nbformat": 4,
 "nbformat_minor": 5
}
