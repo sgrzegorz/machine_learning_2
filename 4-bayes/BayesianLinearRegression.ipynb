{
 "cells": [
  {
   "cell_type": "code",
   "execution_count": 1,
   "id": "e8e3d3cb-c375-4247-bfe5-8315a298f2d0",
   "metadata": {},
   "outputs": [
    {
     "ename": "IndentationError",
     "evalue": "expected an indented block (510676226.py, line 14)",
     "output_type": "error",
     "traceback": [
      "\u001b[0;36m  File \u001b[0;32m\"/tmp/ipykernel_412172/510676226.py\"\u001b[0;36m, line \u001b[0;32m14\u001b[0m\n\u001b[0;31m    def predict(self, x):\u001b[0m\n\u001b[0m    ^\u001b[0m\n\u001b[0;31mIndentationError\u001b[0m\u001b[0;31m:\u001b[0m expected an indented block\n"
     ]
    }
   ],
   "source": [
    "class BayesianLinearRegression:\n",
    "    def __init__(self, n_features, alpha, beta):\n",
    "        self.n_features = n_features\n",
    "        self.alpha = alpha\n",
    "        self.beta = beta\n",
    "        self.mean = np.zeros(n_features)\n",
    "        self.cov = np.identity(n_features) * alpha\n",
    "    \n",
    "    def learn(self, x, y):\n",
    "        # Update the inverse covariance matrix (\n",
    "        # Equation 77# Update the mean vector\n",
    "        # Equation 78\n",
    "        #return self\n",
    "    def predict(self, x):\n",
    "        # Obtain the predictive mean\n",
    "        # Equation 62, Equation 80\n",
    "        # Obtain the predictive variance\n",
    "        # Equation 81\n",
    "        return stats.norm(loc=y_pred_mean, scale=y_pred_var ** .5)\n",
    "    \n",
    "    @property\n",
    "    def weights_dist(self):\n",
    "        return stats.multivariate_normal(mean=self.mean, cov=self.cov)"
   ]
  }
 ],
 "metadata": {
  "kernelspec": {
   "display_name": "Python [conda env:ml]",
   "language": "python",
   "name": "conda-env-ml-py"
  },
  "language_info": {
   "codemirror_mode": {
    "name": "ipython",
    "version": 3
   },
   "file_extension": ".py",
   "mimetype": "text/x-python",
   "name": "python",
   "nbconvert_exporter": "python",
   "pygments_lexer": "ipython3",
   "version": "3.9.7"
  }
 },
 "nbformat": 4,
 "nbformat_minor": 5
}
