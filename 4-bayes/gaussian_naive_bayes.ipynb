{
 "cells": [
  {
   "cell_type": "code",
   "execution_count": 1,
   "id": "f45d6149",
   "metadata": {},
   "outputs": [],
   "source": [
    "from sklearn.datasets import load_iris, load_wine\n",
    "from sklearn.model_selection import train_test_split\n",
    "import numpy as np\n",
    "from functools import reduce\n",
    "from operator import mul\n",
    "from sklearn.metrics import confusion_matrix\n",
    "import sklearn.naive_bayes\n",
    "from sklearn.metrics import accuracy_score\n"
   ]
  },
  {
   "cell_type": "code",
   "execution_count": 2,
   "id": "2764c553",
   "metadata": {},
   "outputs": [],
   "source": [
    "X, y = load_iris(return_X_y=True)\n",
    "X_train, X_test, y_train, y_test = train_test_split(X, y, test_size=0.4, random_state=0)\n"
   ]
  },
  {
   "cell_type": "code",
   "execution_count": 3,
   "id": "8df7cc32",
   "metadata": {},
   "outputs": [],
   "source": [
    "# 1. sepal length in cm  x1 kielich\n",
    "# 2. sepal width in cm   x2\n",
    "# 3. petal length in cm  x3 kwiatek\n",
    "# 4. petal width in cm   x4\n",
    "# 5. class:  \n",
    "# -- Iris Setosa   C1\n",
    "# -- Iris Versicolour  C2\n",
    "# -- Iris Virginica  C3"
   ]
  },
  {
   "cell_type": "code",
   "execution_count": 4,
   "id": "c26b0e07",
   "metadata": {},
   "outputs": [
    {
     "data": {
      "text/plain": [
       "array([[16,  0,  0],\n",
       "       [ 0, 23,  4],\n",
       "       [ 0,  0, 17]])"
      ]
     },
     "execution_count": 4,
     "metadata": {},
     "output_type": "execute_result"
    }
   ],
   "source": [
    "#https://www.youtube.com/watch?v=kufuBE6TJew&ab_channel=MaheshHuddar\n",
    "class GaussianNB:\n",
    "    def __init__(self, n_features, n_classes):\n",
    "        self.n_features = n_features\n",
    "        self.n_classes = n_classes\n",
    "        self.mean = {}\n",
    "        self.var = {}\n",
    "        self.class_probability = {}\n",
    "\n",
    "    def learn(self, x, y):\n",
    "        for class_id in range(self.n_classes):\n",
    "            selected = x[y == class_id]\n",
    "            mean = np.mean(selected, axis=0)\n",
    "            var = np.var(selected, axis=0, ddof=1)\n",
    "            self.mean[class_id] = mean\n",
    "            self.var[class_id] = var\n",
    "            self.class_probability[class_id] = len(y[y == class_id]) / len(y)\n",
    "\n",
    "    def predict_sample(self, x_pred):\n",
    "\n",
    "        return np.argmax([self._posterior(class_id, x_pred) for class_id in range(self.n_classes)])\n",
    "    \n",
    "    def predict(self,x_test):\n",
    "        y_pred = []\n",
    "        for x_pred in x_test:\n",
    "            prediction = self.predict_sample(x_pred)\n",
    "            y_pred.append(prediction)\n",
    "        return y_pred\n",
    "    \n",
    "\n",
    "    def _posterior(self,class_id, x_pred):\n",
    "\n",
    "        result = self.class_probability[class_id]\n",
    "        for feature_id in range(self.n_features):\n",
    "            result *= self._gauss(feature_id, class_id, x_pred[feature_id])\n",
    "\n",
    "        return result\n",
    "\n",
    "    def _gauss(self,feature_id, class_id, predicted):\n",
    "        index = - np.power(predicted - self.mean[class_id][feature_id], 2) / (2 * self.var[class_id][feature_id])\n",
    "        return 1 / np.sqrt(2 * np.pi * self.var[class_id][feature_id]) * np.exp(index)\n",
    "\n",
    "\n",
    "gnb = GaussianNB(4, 3)\n",
    "gnb.learn(X_train, y_train)\n",
    "y_pred = gnb.predict(X_test)\n",
    "confusion_matrix(y_pred, y_test)\n",
    "\n"
   ]
  },
  {
   "cell_type": "code",
   "execution_count": 5,
   "id": "f3023d9b-77f1-4a91-9164-d20a7836a049",
   "metadata": {},
   "outputs": [
    {
     "data": {
      "text/plain": [
       "array([[16,  0,  0],\n",
       "       [ 0, 23,  4],\n",
       "       [ 0,  0, 17]])"
      ]
     },
     "execution_count": 5,
     "metadata": {},
     "output_type": "execute_result"
    }
   ],
   "source": [
    "\n",
    "gnb1 = sklearn.naive_bayes.GaussianNB()\n",
    "y_pred1 = gnb1.fit(X_train, y_train).predict(X_test)\n",
    "confusion_matrix(y_pred1, y_test)"
   ]
  },
  {
   "cell_type": "code",
   "execution_count": null,
   "id": "4136ba9d-e5d7-4571-b70d-07094141ff3b",
   "metadata": {},
   "outputs": [],
   "source": []
  },
  {
   "cell_type": "code",
   "execution_count": 6,
   "id": "6d331804-d740-4b85-a17b-9e08647fcd86",
   "metadata": {},
   "outputs": [
    {
     "name": "stdout",
     "output_type": "stream",
     "text": [
      "średni błąd klasyfikacji 0.95\n",
      "odchylenie standardowe 0.024720661623652194\n"
     ]
    }
   ],
   "source": [
    "scores = []\n",
    "for _ in range(20):\n",
    "    X, y = load_iris(return_X_y=True)\n",
    "    X_train, X_test, y_train, y_test = train_test_split(X, y, test_size=0.4)\n",
    "    gnb = GaussianNB(4, 3)\n",
    "    gnb.learn(X_train, y_train)\n",
    "    y_pred = gnb.predict(X_test)\n",
    "    scores.append(accuracy_score(y_test,y_pred))\n",
    "\n",
    "print('średni błąd klasyfikacji', np.mean(scores))\n",
    "print('odchylenie standardowe',np.std(scores))"
   ]
  },
  {
   "cell_type": "markdown",
   "id": "b8a93440-e989-4e4e-b5d2-8152fe46be6c",
   "metadata": {},
   "source": [
    "## Wine"
   ]
  },
  {
   "cell_type": "code",
   "execution_count": 7,
   "id": "417eeecd-f2db-4542-9c59-49e594a9f9ee",
   "metadata": {},
   "outputs": [
    {
     "data": {
      "text/plain": [
       "array([[22,  2,  0],\n",
       "       [ 0, 27,  0],\n",
       "       [ 0,  2, 19]])"
      ]
     },
     "execution_count": 7,
     "metadata": {},
     "output_type": "execute_result"
    }
   ],
   "source": [
    "X, y = load_wine(return_X_y=True)\n",
    "n_features  = len(load_wine()['feature_names'])\n",
    "n_classes = 3\n",
    "\n",
    "X_train, X_test, y_train, y_test = train_test_split(X, y, test_size=0.4, random_state=0)\n",
    "\n",
    "gnb2 = GaussianNB(n_features, n_classes)\n",
    "gnb2.learn(X_train, y_train)\n",
    "y_pred = gnb2.predict(X_test)\n",
    "confusion_matrix(y_pred, y_test)"
   ]
  },
  {
   "cell_type": "code",
   "execution_count": 8,
   "id": "8d03a992-d167-404f-9bde-a691a6b3287c",
   "metadata": {},
   "outputs": [
    {
     "data": {
      "text/plain": [
       "array([[22,  2,  0],\n",
       "       [ 0, 27,  0],\n",
       "       [ 0,  2, 19]])"
      ]
     },
     "execution_count": 8,
     "metadata": {},
     "output_type": "execute_result"
    }
   ],
   "source": [
    "\n",
    "gnb = sklearn.naive_bayes.GaussianNB()\n",
    "y_pred = gnb.fit(X_train, y_train).predict(X_test)\n",
    "confusion_matrix(y_pred, y_test)"
   ]
  },
  {
   "cell_type": "code",
   "execution_count": 9,
   "id": "7614a9f4-67d2-4b55-ba91-e2c5dfb164ce",
   "metadata": {},
   "outputs": [
    {
     "name": "stdout",
     "output_type": "stream",
     "text": [
      "0.9444444444444444\n"
     ]
    }
   ],
   "source": [
    "# Standardization (Z-score Normalization)  (średnia 0, odchylenie standardowe 1\n",
    "X, y = load_wine(return_X_y=True)\n",
    "\n",
    "from sklearn.preprocessing import StandardScaler \n",
    "scaler = StandardScaler(with_mean=False, with_std=False)\n",
    "scaler.fit(X)\n",
    "X = scaler.transform(X)\n",
    "X_train, X_test, y_train, y_test = train_test_split(X, y, test_size=0.3, random_state=0)\n",
    "\n",
    "gnb = sklearn.naive_bayes.GaussianNB()\n",
    "y_pred = gnb.fit(X_train, y_train).predict(X_test)\n",
    "print(accuracy_score(y_test,y_pred))\n"
   ]
  },
  {
   "cell_type": "code",
   "execution_count": 10,
   "id": "3e236dd2-5e81-4d65-90b6-983780bae733",
   "metadata": {},
   "outputs": [
    {
     "name": "stdout",
     "output_type": "stream",
     "text": [
      "0.7962962962962963\n"
     ]
    }
   ],
   "source": [
    "from sklearn.decomposition import PCA\n",
    "pca = PCA(n_components=2)\n",
    "\n",
    "X, y = load_wine(return_X_y=True)\n",
    "X = pca.fit(X).transform(X)\n",
    "\n",
    "\n",
    "X_train, X_test, y_train, y_test = train_test_split(X, y, test_size=0.3, random_state=0)\n",
    "gnb = sklearn.naive_bayes.GaussianNB()\n",
    "y_pred = gnb.fit(X_train, y_train).predict(X_test)\n",
    "\n",
    "print(accuracy_score(y_test,y_pred))\n",
    "# po pca spadło do 80% pradwopodobnie pca za bardzo zredukowało zbiór danych"
   ]
  },
  {
   "cell_type": "code",
   "execution_count": null,
   "id": "dc9f093d",
   "metadata": {},
   "outputs": [],
   "source": []
  }
 ],
 "metadata": {
  "kernelspec": {
   "display_name": "Python [conda env:ml]",
   "language": "python",
   "name": "conda-env-ml-py"
  },
  "language_info": {
   "codemirror_mode": {
    "name": "ipython",
    "version": 3
   },
   "file_extension": ".py",
   "mimetype": "text/x-python",
   "name": "python",
   "nbconvert_exporter": "python",
   "pygments_lexer": "ipython3",
   "version": "3.9.7"
  }
 },
 "nbformat": 4,
 "nbformat_minor": 5
}
